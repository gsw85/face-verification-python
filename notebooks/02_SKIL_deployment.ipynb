{
 "cells": [
  {
   "cell_type": "markdown",
   "metadata": {},
   "source": [
    "# SKIL Deployment"
   ]
  },
  {
   "cell_type": "code",
   "execution_count": 3,
   "metadata": {},
   "outputs": [],
   "source": [
    "from skil import Skil, WorkSpace, Experiment, Model, Deployment"
   ]
  },
  {
   "cell_type": "code",
   "execution_count": 4,
   "metadata": {},
   "outputs": [
    {
     "name": "stdout",
     "output_type": "stream",
     "text": [
      "'>>> Authenticating SKIL...'\n",
      "'>>> Done!'\n",
      "'>>> Uploading model, this might take a while...'\n",
      "[   {'file_content': None,\n",
      " 'file_name': 'vgg_face_descriptor.h5',\n",
      " 'key': 'file',\n",
      " 'path': '/opt/skil/plugins/files/MODEL/vgg_face_descriptor.h5',\n",
      " 'status': 'uploaded',\n",
      " 'type': None}]\n"
     ]
    }
   ],
   "source": [
    "skil_server = Skil(\n",
    "    host          = 'localhost',\n",
    "    port          = 9008,\n",
    "    user_id       = 'admin',\n",
    "    password      = 'admin123'\n",
    ")\n",
    "\n",
    "work_space = WorkSpace(\n",
    "    skil          = skil_server, \n",
    "    name          = 'vgg-workspace'\n",
    ")\n",
    "\n",
    "experiment = Experiment(\n",
    "    work_space    = work_space, \n",
    "    name          = 'vgg-experiment', \n",
    "    experiment_id = 'vgg-experiment-01'\n",
    ")\n",
    "\n",
    "model = Model(\n",
    "    model         = 'vgg_face_descriptor.h5', \n",
    "    name          = 'vgg-model',\n",
    "    model_id      = 'vgg-model-01',\n",
    "    experiment    = experiment\n",
    ")\n",
    "\n",
    "deployment = Deployment(\n",
    "    skil          = skil_server,\n",
    "    name          = 'vgg-deployment'\n",
    ")"
   ]
  },
  {
   "cell_type": "code",
   "execution_count": 5,
   "metadata": {},
   "outputs": [
    {
     "name": "stdout",
     "output_type": "stream",
     "text": [
      "{'created': 1558084117003,\n",
      " 'deployment_id': 1,\n",
      " 'extra_args': None,\n",
      " 'file_location': None,\n",
      " 'id': 0,\n",
      " 'jvm_args': None,\n",
      " 'labels_file_location': None,\n",
      " 'launch_policy': {'@class': 'io.skymind.deployment.launchpolicy.DefaultLaunchPolicy',\n",
      "                   'maxFailuresMs': 300000,\n",
      "                   'maxFailuresQty': 3},\n",
      " 'model_state': None,\n",
      " 'model_type': 'model',\n",
      " 'name': 'vgg-model',\n",
      " 'scale': 1.0,\n",
      " 'state': 'stopped',\n",
      " 'sub_type': None,\n",
      " 'updated': None}\n",
      "'>>> Starting to serve model...'\n",
      "'>>> Waiting for deployment...'\n",
      "'>>> Waiting for deployment...'\n",
      "'>>> Waiting for deployment...'\n",
      "'>>> Waiting for deployment...'\n",
      "'>>> Waiting for deployment...'\n",
      "'>>> Waiting for deployment...'\n",
      "'>>> Waiting for deployment...'\n",
      "'>>> Waiting for deployment...'\n",
      "'>>> Waiting for deployment...'\n",
      "'>>> Waiting for deployment...'\n",
      "'>>> Waiting for deployment...'\n",
      "'>>> Waiting for deployment...'\n",
      "'>>> Waiting for deployment...'\n",
      "'>>> Waiting for deployment...'\n",
      "'>>> Waiting for deployment...'\n",
      "'>>> Waiting for deployment...'\n",
      "'>>> Model server started successfully!'\n"
     ]
    }
   ],
   "source": [
    "service = model.deploy(deployment)"
   ]
  }
 ],
 "metadata": {
  "kernelspec": {
   "display_name": "Python 3",
   "language": "python",
   "name": "python3"
  },
  "language_info": {
   "codemirror_mode": {
    "name": "ipython",
    "version": 3
   },
   "file_extension": ".py",
   "mimetype": "text/x-python",
   "name": "python",
   "nbconvert_exporter": "python",
   "pygments_lexer": "ipython3",
   "version": "3.5.2"
  }
 },
 "nbformat": 4,
 "nbformat_minor": 2
}
